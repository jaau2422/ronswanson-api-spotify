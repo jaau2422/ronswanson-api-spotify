{
 "cells": [
  {
   "cell_type": "code",
   "execution_count": 2,
   "id": "b1821d9c",
   "metadata": {},
   "outputs": [
    {
     "name": "stdout",
     "output_type": "stream",
     "text": [
      "['i', 'me', 'my', 'myself', 'we', 'our', 'ours', 'ourselves', 'you', \"you're\", \"you've\", \"you'll\", \"you'd\", 'your', 'yours', 'yourself', 'yourselves', 'he', 'him', 'his', 'himself', 'she', \"she's\", 'her', 'hers', 'herself', 'it', \"it's\", 'its', 'itself', 'they', 'them', 'their', 'theirs', 'themselves', 'what', 'which', 'who', 'whom', 'this', 'that', \"that'll\", 'these', 'those', 'am', 'is', 'are', 'was', 'were', 'be', 'been', 'being', 'have', 'has', 'had', 'having', 'do', 'does', 'did', 'doing', 'a', 'an', 'the', 'and', 'but', 'if', 'or', 'because', 'as', 'until', 'while', 'of', 'at', 'by', 'for', 'with', 'about', 'against', 'between', 'into', 'through', 'during', 'before', 'after', 'above', 'below', 'to', 'from', 'up', 'down', 'in', 'out', 'on', 'off', 'over', 'under', 'again', 'further', 'then', 'once', 'here', 'there', 'when', 'where', 'why', 'how', 'all', 'any', 'both', 'each', 'few', 'more', 'most', 'other', 'some', 'such', 'no', 'nor', 'not', 'only', 'own', 'same', 'so', 'than', 'too', 'very', 's', 't', 'can', 'will', 'just', 'don', \"don't\", 'should', \"should've\", 'now', 'd', 'll', 'm', 'o', 're', 've', 'y', 'ain', 'aren', \"aren't\", 'couldn', \"couldn't\", 'didn', \"didn't\", 'doesn', \"doesn't\", 'hadn', \"hadn't\", 'hasn', \"hasn't\", 'haven', \"haven't\", 'isn', \"isn't\", 'ma', 'mightn', \"mightn't\", 'mustn', \"mustn't\", 'needn', \"needn't\", 'shan', \"shan't\", 'shouldn', \"shouldn't\", 'wasn', \"wasn't\", 'weren', \"weren't\", 'won', \"won't\", 'wouldn', \"wouldn't\"]\n"
     ]
    }
   ],
   "source": [
    "import spotipy\n",
    "import json\n",
    "import webbrowser\n",
    "import urllib.request\n",
    "import spotipy.util as util\n",
    "import nltk\n",
    "from nltk.corpus import stopwords\n",
    "print(stopwords.words('english'))"
   ]
  },
  {
   "cell_type": "code",
   "execution_count": 3,
   "id": "e9b39694",
   "metadata": {},
   "outputs": [],
   "source": [
    "request = urllib.request.Request(\"https://ron-swanson-quotes.herokuapp.com/v2/quotes/search/people\")\n",
    "response = urllib.request.urlopen(request)"
   ]
  },
  {
   "cell_type": "code",
   "execution_count": 4,
   "id": "fc3cfa13",
   "metadata": {},
   "outputs": [
    {
     "data": {
      "text/plain": [
       "http.client.HTTPResponse"
      ]
     },
     "execution_count": 4,
     "metadata": {},
     "output_type": "execute_result"
    }
   ],
   "source": [
    "type(response)"
   ]
  },
  {
   "cell_type": "code",
   "execution_count": 5,
   "id": "b3bee8bb",
   "metadata": {},
   "outputs": [],
   "source": [
    "quote = json.loads(response.read())\n"
   ]
  },
  {
   "cell_type": "code",
   "execution_count": 6,
   "id": "cf7f6f3e",
   "metadata": {},
   "outputs": [
    {
     "name": "stdout",
     "output_type": "stream",
     "text": [
      "[\"When people get a little too chummy with me I like to call them by the wrong name to let them know I don't really care about them.\", \"The less I know about other people's affairs, the happier I am. I'm not interested in caring about people. I once worked with a guy for three years and never learned his name. Best friend I ever had. We still never talk sometimes.\", 'There are only three ways to motivate people: money, fear, and hunger.', 'Creativity is for people with glasses who like to lie.', 'People who buy things are suckers.', 'If there were more food and fewer people, this would be a perfect party.', 'In my opinion, not enough people have looked their dinner in the eyes and considered the circle of life.']\n"
     ]
    }
   ],
   "source": [
    "print(quote)\n"
   ]
  },
  {
   "cell_type": "code",
   "execution_count": 7,
   "id": "1404b81a",
   "metadata": {},
   "outputs": [
    {
     "data": {
      "text/plain": [
       "list"
      ]
     },
     "execution_count": 7,
     "metadata": {},
     "output_type": "execute_result"
    }
   ],
   "source": [
    "type(quote)"
   ]
  },
  {
   "cell_type": "code",
   "execution_count": 18,
   "id": "303ff51c",
   "metadata": {},
   "outputs": [],
   "source": [
    "word=quote[0]"
   ]
  },
  {
   "cell_type": "code",
   "execution_count": 19,
   "id": "6e3f0bb8",
   "metadata": {},
   "outputs": [
    {
     "name": "stdout",
     "output_type": "stream",
     "text": [
      "When people get a little too chummy with me I like to call them by the wrong name to let them know I don't really care about them.\n"
     ]
    }
   ],
   "source": [
    "print(word)"
   ]
  },
  {
   "cell_type": "code",
   "execution_count": 20,
   "id": "7fa7b161",
   "metadata": {},
   "outputs": [
    {
     "name": "stdout",
     "output_type": "stream",
     "text": [
      "['When', 'people', 'get', 'a', 'little', 'too', 'chummy', 'with', 'me', 'I', 'like', 'to', 'call', 'them', 'by', 'the', 'wrong', 'name', 'to', 'let', 'them', 'know', 'I', \"don't\", 'really', 'care', 'about', 'them.']\n"
     ]
    }
   ],
   "source": [
    "new_wordlist=word.split()\n",
    "print(new_wordlist)"
   ]
  },
  {
   "cell_type": "code",
   "execution_count": 27,
   "id": "626b0769",
   "metadata": {},
   "outputs": [
    {
     "name": "stdout",
     "output_type": "stream",
     "text": [
      "When\n",
      "people\n",
      "get\n",
      "little\n",
      "chummy\n",
      "I\n",
      "like\n",
      "call\n",
      "wrong\n",
      "name\n",
      "let\n",
      "know\n",
      "I\n",
      "really\n",
      "care\n",
      "them.\n"
     ]
    }
   ],
   "source": [
    "from nltk.corpus import stopwords\n",
    "en_stops = set(stopwords.words('english'))\n",
    "\n",
    "all_words = new_wordlist\n",
    "newlist=[]\n",
    "for word in all_words: \n",
    "    if word not in en_stops:\n",
    "        print(word)\n",
    "        newlist.append(word)"
   ]
  },
  {
   "cell_type": "code",
   "execution_count": 28,
   "id": "5a4bc47e",
   "metadata": {},
   "outputs": [
    {
     "name": "stdout",
     "output_type": "stream",
     "text": [
      "['When', 'people', 'get', 'little', 'chummy', 'I', 'like', 'call', 'wrong', 'name', 'let', 'know', 'I', 'really', 'care', 'them.']\n"
     ]
    }
   ],
   "source": [
    "print(newlist)"
   ]
  },
  {
   "cell_type": "code",
   "execution_count": 29,
   "id": "b738737c",
   "metadata": {},
   "outputs": [],
   "source": [
    "\n",
    "newlist2=' '.join(newlist)"
   ]
  },
  {
   "cell_type": "code",
   "execution_count": 30,
   "id": "6a9726db",
   "metadata": {},
   "outputs": [
    {
     "name": "stdout",
     "output_type": "stream",
     "text": [
      "When people get little chummy I like call wrong name let know I really care them.\n"
     ]
    }
   ],
   "source": [
    "print(newlist2)\n"
   ]
  },
  {
   "cell_type": "code",
   "execution_count": 127,
   "id": "58fcaa87",
   "metadata": {},
   "outputs": [
    {
     "data": {
      "text/plain": [
       "str"
      ]
     },
     "execution_count": 127,
     "metadata": {},
     "output_type": "execute_result"
    }
   ],
   "source": [
    "type(newlist2)"
   ]
  },
  {
   "cell_type": "code",
   "execution_count": 128,
   "id": "9b73969c",
   "metadata": {},
   "outputs": [],
   "source": [
    "finallist=newlist[0:3]"
   ]
  },
  {
   "cell_type": "code",
   "execution_count": 129,
   "id": "06a53535",
   "metadata": {},
   "outputs": [
    {
     "name": "stdout",
     "output_type": "stream",
     "text": [
      "['The', 'three', 'useless']\n"
     ]
    }
   ],
   "source": [
    "print(finallist)"
   ]
  },
  {
   "cell_type": "code",
   "execution_count": 130,
   "id": "f98742e8",
   "metadata": {},
   "outputs": [],
   "source": [
    "finallist2 = \" \".join(finallist)"
   ]
  },
  {
   "cell_type": "code",
   "execution_count": 131,
   "id": "6dc9eed8",
   "metadata": {},
   "outputs": [
    {
     "name": "stdout",
     "output_type": "stream",
     "text": [
      "The three useless\n"
     ]
    }
   ],
   "source": [
    "print(finallist2)"
   ]
  },
  {
   "cell_type": "code",
   "execution_count": null,
   "id": "de21ec97",
   "metadata": {},
   "outputs": [],
   "source": []
  },
  {
   "cell_type": "code",
   "execution_count": null,
   "id": "4f107595",
   "metadata": {},
   "outputs": [],
   "source": []
  },
  {
   "cell_type": "code",
   "execution_count": 132,
   "id": "a3a48b06",
   "metadata": {},
   "outputs": [],
   "source": [
    "# open file with keys and set the path to your credentials JSON file\n",
    "credentials = \"spotify_keys.json\"\n",
    "with open(credentials, \"r\") as keys:\n",
    "    api_tokens = json.load(keys)"
   ]
  },
  {
   "cell_type": "code",
   "execution_count": 133,
   "id": "aa4b6528",
   "metadata": {},
   "outputs": [],
   "source": [
    "client_id = api_tokens[\"client_id\"]\n",
    "client_secret = api_tokens[\"client_secret\"]\n",
    "redirectURI = api_tokens[\"redirect\"]\n",
    "username = api_tokens[\"username\"]"
   ]
  },
  {
   "cell_type": "code",
   "execution_count": 134,
   "id": "8296f9bf",
   "metadata": {},
   "outputs": [
    {
     "name": "stderr",
     "output_type": "stream",
     "text": [
      "C:\\Users\\janaa\\AppData\\Local\\Temp\\ipykernel_27168\\2131995668.py:4: DeprecationWarning: You're using 'as_dict = True'.get_access_token will return the token string directly in future versions. Please adjust your code accordingly, or use get_cached_token instead.\n",
      "  token_dict = oauth_object.get_access_token()\n"
     ]
    }
   ],
   "source": [
    "# Create OAuth Object\n",
    "oauth_object = spotipy.SpotifyOAuth(client_id, client_secret, redirectURI)\n",
    "# Create token\n",
    "token_dict = oauth_object.get_access_token()\n",
    "token = token_dict['access_token']\n",
    "# Create Spotify Object\n",
    "spotifyObject = spotipy.Spotify(auth=token)"
   ]
  },
  {
   "cell_type": "code",
   "execution_count": 135,
   "id": "d161270f",
   "metadata": {},
   "outputs": [],
   "source": [
    "user = spotifyObject.current_user()\n"
   ]
  },
  {
   "cell_type": "code",
   "execution_count": 141,
   "id": "4ecbbb30",
   "metadata": {},
   "outputs": [],
   "source": [
    "\n",
    "track_results = spotifyObject.search(q=finallist2, type='track', limit=50)"
   ]
  },
  {
   "cell_type": "code",
   "execution_count": 148,
   "id": "932bc10b",
   "metadata": {},
   "outputs": [],
   "source": [
    "first_song = track_results['tracks']['items'][0]\n"
   ]
  },
  {
   "cell_type": "code",
   "execution_count": 149,
   "id": "46f79c9b",
   "metadata": {},
   "outputs": [
    {
     "name": "stdout",
     "output_type": "stream",
     "text": [
      "{'album': {'album_type': 'single', 'artists': [{'external_urls': {'spotify': 'https://open.spotify.com/artist/0LyfQWJT6nXafLPZqxe9Of'}, 'href': 'https://api.spotify.com/v1/artists/0LyfQWJT6nXafLPZqxe9Of', 'id': '0LyfQWJT6nXafLPZqxe9Of', 'name': 'Various Artists', 'type': 'artist', 'uri': 'spotify:artist:0LyfQWJT6nXafLPZqxe9Of'}], 'available_markets': ['AD', 'AE', 'AG', 'AL', 'AM', 'AO', 'AR', 'AT', 'AU', 'AZ', 'BA', 'BB', 'BD', 'BE', 'BF', 'BG', 'BH', 'BI', 'BJ', 'BN', 'BO', 'BR', 'BS', 'BT', 'BW', 'BY', 'BZ', 'CA', 'CD', 'CG', 'CH', 'CI', 'CL', 'CM', 'CO', 'CR', 'CV', 'CW', 'CY', 'CZ', 'DE', 'DJ', 'DK', 'DM', 'DO', 'DZ', 'EC', 'EE', 'EG', 'ES', 'FI', 'FJ', 'FM', 'FR', 'GA', 'GB', 'GD', 'GE', 'GH', 'GM', 'GN', 'GQ', 'GR', 'GT', 'GW', 'GY', 'HK', 'HN', 'HR', 'HT', 'HU', 'ID', 'IE', 'IL', 'IN', 'IQ', 'IS', 'IT', 'JM', 'JO', 'JP', 'KE', 'KG', 'KH', 'KI', 'KM', 'KN', 'KR', 'KW', 'KZ', 'LA', 'LB', 'LC', 'LI', 'LK', 'LR', 'LS', 'LT', 'LU', 'LV', 'LY', 'MA', 'MC', 'MD', 'ME', 'MG', 'MH', 'MK', 'ML', 'MN', 'MO', 'MR', 'MT', 'MU', 'MV', 'MW', 'MX', 'MY', 'MZ', 'NA', 'NE', 'NG', 'NI', 'NL', 'NO', 'NP', 'NR', 'NZ', 'OM', 'PA', 'PE', 'PG', 'PH', 'PK', 'PL', 'PS', 'PT', 'PW', 'PY', 'QA', 'RO', 'RS', 'RW', 'SA', 'SB', 'SC', 'SE', 'SG', 'SI', 'SK', 'SL', 'SM', 'SN', 'SR', 'ST', 'SV', 'SZ', 'TD', 'TG', 'TH', 'TJ', 'TL', 'TN', 'TO', 'TR', 'TT', 'TV', 'TW', 'TZ', 'UA', 'UG', 'US', 'UY', 'UZ', 'VC', 'VE', 'VN', 'VU', 'WS', 'XK', 'ZA', 'ZM', 'ZW'], 'external_urls': {'spotify': 'https://open.spotify.com/album/5J2DaBIgTqYdlAs7VoMoP4'}, 'href': 'https://api.spotify.com/v1/albums/5J2DaBIgTqYdlAs7VoMoP4', 'id': '5J2DaBIgTqYdlAs7VoMoP4', 'images': [{'height': 640, 'url': 'https://i.scdn.co/image/ab67616d0000b27380a846a57cff8b2217904201', 'width': 640}, {'height': 300, 'url': 'https://i.scdn.co/image/ab67616d00001e0280a846a57cff8b2217904201', 'width': 300}, {'height': 64, 'url': 'https://i.scdn.co/image/ab67616d0000485180a846a57cff8b2217904201', 'width': 64}], 'name': 'Evolutions, Vol. 3', 'release_date': '2016-12-16', 'release_date_precision': 'day', 'total_tracks': 5, 'type': 'album', 'uri': 'spotify:album:5J2DaBIgTqYdlAs7VoMoP4'}, 'artists': [{'external_urls': {'spotify': 'https://open.spotify.com/artist/3AN7hRE17UHM6zOgbaj9bf'}, 'href': 'https://api.spotify.com/v1/artists/3AN7hRE17UHM6zOgbaj9bf', 'id': '3AN7hRE17UHM6zOgbaj9bf', 'name': 'Splash Heads', 'type': 'artist', 'uri': 'spotify:artist:3AN7hRE17UHM6zOgbaj9bf'}, {'external_urls': {'spotify': 'https://open.spotify.com/artist/6sNeV6FX2me50N5Jh1idA4'}, 'href': 'https://api.spotify.com/v1/artists/6sNeV6FX2me50N5Jh1idA4', 'id': '6sNeV6FX2me50N5Jh1idA4', 'name': 'The Clamps', 'type': 'artist', 'uri': 'spotify:artist:6sNeV6FX2me50N5Jh1idA4'}], 'available_markets': ['AD', 'AE', 'AG', 'AL', 'AM', 'AO', 'AR', 'AT', 'AU', 'AZ', 'BA', 'BB', 'BD', 'BE', 'BF', 'BG', 'BH', 'BI', 'BJ', 'BN', 'BO', 'BR', 'BS', 'BT', 'BW', 'BY', 'BZ', 'CA', 'CD', 'CG', 'CH', 'CI', 'CL', 'CM', 'CO', 'CR', 'CV', 'CW', 'CY', 'CZ', 'DE', 'DJ', 'DK', 'DM', 'DO', 'DZ', 'EC', 'EE', 'EG', 'ES', 'FI', 'FJ', 'FM', 'FR', 'GA', 'GB', 'GD', 'GE', 'GH', 'GM', 'GN', 'GQ', 'GR', 'GT', 'GW', 'GY', 'HK', 'HN', 'HR', 'HT', 'HU', 'ID', 'IE', 'IL', 'IN', 'IQ', 'IS', 'IT', 'JM', 'JO', 'JP', 'KE', 'KG', 'KH', 'KI', 'KM', 'KN', 'KR', 'KW', 'KZ', 'LA', 'LB', 'LC', 'LI', 'LK', 'LR', 'LS', 'LT', 'LU', 'LV', 'LY', 'MA', 'MC', 'MD', 'ME', 'MG', 'MH', 'MK', 'ML', 'MN', 'MO', 'MR', 'MT', 'MU', 'MV', 'MW', 'MX', 'MY', 'MZ', 'NA', 'NE', 'NG', 'NI', 'NL', 'NO', 'NP', 'NR', 'NZ', 'OM', 'PA', 'PE', 'PG', 'PH', 'PK', 'PL', 'PS', 'PT', 'PW', 'PY', 'QA', 'RO', 'RS', 'RW', 'SA', 'SB', 'SC', 'SE', 'SG', 'SI', 'SK', 'SL', 'SM', 'SN', 'SR', 'ST', 'SV', 'SZ', 'TD', 'TG', 'TH', 'TJ', 'TL', 'TN', 'TO', 'TR', 'TT', 'TV', 'TW', 'TZ', 'UA', 'UG', 'US', 'UY', 'UZ', 'VC', 'VE', 'VN', 'VU', 'WS', 'XK', 'ZA', 'ZM', 'ZW'], 'disc_number': 1, 'duration_ms': 305581, 'explicit': False, 'external_ids': {'isrc': 'USQY51611222'}, 'external_urls': {'spotify': 'https://open.spotify.com/track/07CkBm43GfmWqov5Qtw9Xv'}, 'href': 'https://api.spotify.com/v1/tracks/07CkBm43GfmWqov5Qtw9Xv', 'id': '07CkBm43GfmWqov5Qtw9Xv', 'is_local': False, 'name': 'Useless', 'popularity': 5, 'preview_url': 'https://p.scdn.co/mp3-preview/cd7558bba30bf848628d6b72576561ceb0b88e5e?cid=344202ccba4b441ca55a53dd89fbf940', 'track_number': 4, 'type': 'track', 'uri': 'spotify:track:07CkBm43GfmWqov5Qtw9Xv'}\n"
     ]
    }
   ],
   "source": [
    "print(first_song)\n"
   ]
  },
  {
   "cell_type": "code",
   "execution_count": 150,
   "id": "f181e9e5",
   "metadata": {},
   "outputs": [
    {
     "data": {
      "text/plain": [
       "True"
      ]
     },
     "execution_count": 150,
     "metadata": {},
     "output_type": "execute_result"
    }
   ],
   "source": [
    "webbrowser.open(first_song['external_urls']['spotify'])\n"
   ]
  },
  {
   "cell_type": "code",
   "execution_count": null,
   "id": "c37497c5",
   "metadata": {},
   "outputs": [],
   "source": []
  },
  {
   "cell_type": "code",
   "execution_count": null,
   "id": "b68cb662",
   "metadata": {},
   "outputs": [],
   "source": []
  }
 ],
 "metadata": {
  "kernelspec": {
   "display_name": "Python 3 (ipykernel)",
   "language": "python",
   "name": "python3"
  },
  "language_info": {
   "codemirror_mode": {
    "name": "ipython",
    "version": 3
   },
   "file_extension": ".py",
   "mimetype": "text/x-python",
   "name": "python",
   "nbconvert_exporter": "python",
   "pygments_lexer": "ipython3",
   "version": "3.11.0"
  }
 },
 "nbformat": 4,
 "nbformat_minor": 5
}
