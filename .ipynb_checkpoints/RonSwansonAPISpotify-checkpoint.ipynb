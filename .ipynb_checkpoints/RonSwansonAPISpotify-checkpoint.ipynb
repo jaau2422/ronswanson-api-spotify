{
 "cells": [
  {
   "cell_type": "code",
   "execution_count": 98,
   "id": "b1821d9c",
   "metadata": {},
   "outputs": [
    {
     "name": "stdout",
     "output_type": "stream",
     "text": [
      "['i', 'me', 'my', 'myself', 'we', 'our', 'ours', 'ourselves', 'you', \"you're\", \"you've\", \"you'll\", \"you'd\", 'your', 'yours', 'yourself', 'yourselves', 'he', 'him', 'his', 'himself', 'she', \"she's\", 'her', 'hers', 'herself', 'it', \"it's\", 'its', 'itself', 'they', 'them', 'their', 'theirs', 'themselves', 'what', 'which', 'who', 'whom', 'this', 'that', \"that'll\", 'these', 'those', 'am', 'is', 'are', 'was', 'were', 'be', 'been', 'being', 'have', 'has', 'had', 'having', 'do', 'does', 'did', 'doing', 'a', 'an', 'the', 'and', 'but', 'if', 'or', 'because', 'as', 'until', 'while', 'of', 'at', 'by', 'for', 'with', 'about', 'against', 'between', 'into', 'through', 'during', 'before', 'after', 'above', 'below', 'to', 'from', 'up', 'down', 'in', 'out', 'on', 'off', 'over', 'under', 'again', 'further', 'then', 'once', 'here', 'there', 'when', 'where', 'why', 'how', 'all', 'any', 'both', 'each', 'few', 'more', 'most', 'other', 'some', 'such', 'no', 'nor', 'not', 'only', 'own', 'same', 'so', 'than', 'too', 'very', 's', 't', 'can', 'will', 'just', 'don', \"don't\", 'should', \"should've\", 'now', 'd', 'll', 'm', 'o', 're', 've', 'y', 'ain', 'aren', \"aren't\", 'couldn', \"couldn't\", 'didn', \"didn't\", 'doesn', \"doesn't\", 'hadn', \"hadn't\", 'hasn', \"hasn't\", 'haven', \"haven't\", 'isn', \"isn't\", 'ma', 'mightn', \"mightn't\", 'mustn', \"mustn't\", 'needn', \"needn't\", 'shan', \"shan't\", 'shouldn', \"shouldn't\", 'wasn', \"wasn't\", 'weren', \"weren't\", 'won', \"won't\", 'wouldn', \"wouldn't\"]\n"
     ]
    }
   ],
   "source": [
    "import spotipy\n",
    "import json\n",
    "import webbrowser\n",
    "import urllib.request\n",
    "import spotipy.util as util\n",
    "import nltk\n",
    "from nltk.corpus import stopwords\n",
    "print(stopwords.words('english'))"
   ]
  },
  {
   "cell_type": "code",
   "execution_count": 99,
   "id": "e9b39694",
   "metadata": {},
   "outputs": [],
   "source": [
    "request = urllib.request.Request(\"https://ron-swanson-quotes.herokuapp.com/v2/quotes\")\n",
    "response = urllib.request.urlopen(request)"
   ]
  },
  {
   "cell_type": "code",
   "execution_count": 100,
   "id": "fc3cfa13",
   "metadata": {},
   "outputs": [
    {
     "data": {
      "text/plain": [
       "http.client.HTTPResponse"
      ]
     },
     "execution_count": 100,
     "metadata": {},
     "output_type": "execute_result"
    }
   ],
   "source": [
    "type(response)"
   ]
  },
  {
   "cell_type": "code",
   "execution_count": 101,
   "id": "b3bee8bb",
   "metadata": {},
   "outputs": [],
   "source": [
    "quote = json.loads(response.read())\n"
   ]
  },
  {
   "cell_type": "code",
   "execution_count": 102,
   "id": "cf7f6f3e",
   "metadata": {},
   "outputs": [
    {
     "name": "stdout",
     "output_type": "stream",
     "text": [
      "['In my opinion, not enough people have looked their dinner in the eyes and considered the circle of life.']\n"
     ]
    }
   ],
   "source": [
    "print(quote)\n"
   ]
  },
  {
   "cell_type": "code",
   "execution_count": 103,
   "id": "1404b81a",
   "metadata": {},
   "outputs": [
    {
     "data": {
      "text/plain": [
       "list"
      ]
     },
     "execution_count": 103,
     "metadata": {},
     "output_type": "execute_result"
    }
   ],
   "source": [
    "type(quote)"
   ]
  },
  {
   "cell_type": "code",
   "execution_count": 104,
   "id": "303ff51c",
   "metadata": {},
   "outputs": [],
   "source": [
    "word=quote[0]"
   ]
  },
  {
   "cell_type": "code",
   "execution_count": 105,
   "id": "6e3f0bb8",
   "metadata": {},
   "outputs": [
    {
     "name": "stdout",
     "output_type": "stream",
     "text": [
      "In my opinion, not enough people have looked their dinner in the eyes and considered the circle of life.\n"
     ]
    }
   ],
   "source": [
    "print(word)"
   ]
  },
  {
   "cell_type": "code",
   "execution_count": 106,
   "id": "7fa7b161",
   "metadata": {},
   "outputs": [
    {
     "name": "stdout",
     "output_type": "stream",
     "text": [
      "['In', 'my', 'opinion,', 'not', 'enough', 'people', 'have', 'looked', 'their', 'dinner', 'in', 'the', 'eyes', 'and', 'considered', 'the', 'circle', 'of', 'life.']\n"
     ]
    }
   ],
   "source": [
    "new_wordlist=word.split()\n",
    "print(new_wordlist)"
   ]
  },
  {
   "cell_type": "code",
   "execution_count": 107,
   "id": "626b0769",
   "metadata": {},
   "outputs": [
    {
     "name": "stdout",
     "output_type": "stream",
     "text": [
      "In\n",
      "opinion,\n",
      "enough\n",
      "people\n",
      "looked\n",
      "dinner\n",
      "eyes\n",
      "considered\n",
      "circle\n",
      "life.\n"
     ]
    }
   ],
   "source": [
    "from nltk.corpus import stopwords\n",
    "en_stops = set(stopwords.words('english'))\n",
    "\n",
    "all_words = new_wordlist\n",
    "newlist=[]\n",
    "for word in all_words: \n",
    "    if word not in en_stops:\n",
    "        print(word)\n",
    "        newlist.append(word)"
   ]
  },
  {
   "cell_type": "code",
   "execution_count": 108,
   "id": "5a4bc47e",
   "metadata": {},
   "outputs": [
    {
     "name": "stdout",
     "output_type": "stream",
     "text": [
      "['In', 'opinion,', 'enough', 'people', 'looked', 'dinner', 'eyes', 'considered', 'circle', 'life.']\n"
     ]
    }
   ],
   "source": [
    "print(newlist)"
   ]
  },
  {
   "cell_type": "code",
   "execution_count": 114,
   "id": "b738737c",
   "metadata": {},
   "outputs": [],
   "source": [
    "\n",
    "newlist2=' '.join(newlist)"
   ]
  },
  {
   "cell_type": "code",
   "execution_count": 115,
   "id": "6a9726db",
   "metadata": {},
   "outputs": [
    {
     "name": "stdout",
     "output_type": "stream",
     "text": [
      "In opinion, enough people looked dinner eyes considered circle life.\n"
     ]
    }
   ],
   "source": [
    "print(newlist2)\n"
   ]
  },
  {
   "cell_type": "code",
   "execution_count": 118,
   "id": "58fcaa87",
   "metadata": {},
   "outputs": [
    {
     "data": {
      "text/plain": [
       "str"
      ]
     },
     "execution_count": 118,
     "metadata": {},
     "output_type": "execute_result"
    }
   ],
   "source": [
    "type(newlist2)"
   ]
  },
  {
   "cell_type": "code",
   "execution_count": 116,
   "id": "9b73969c",
   "metadata": {},
   "outputs": [],
   "source": [
    "finallist=[newlist2]"
   ]
  },
  {
   "cell_type": "code",
   "execution_count": null,
   "id": "a3a48b06",
   "metadata": {},
   "outputs": [],
   "source": []
  },
  {
   "cell_type": "code",
   "execution_count": 117,
   "id": "aa4b6528",
   "metadata": {},
   "outputs": [
    {
     "name": "stdout",
     "output_type": "stream",
     "text": [
      "['In opinion, enough people looked dinner eyes considered circle life.']\n"
     ]
    }
   ],
   "source": [
    "print(finallist)"
   ]
  },
  {
   "cell_type": "code",
   "execution_count": 119,
   "id": "8296f9bf",
   "metadata": {},
   "outputs": [
    {
     "data": {
      "text/plain": [
       "list"
      ]
     },
     "execution_count": 119,
     "metadata": {},
     "output_type": "execute_result"
    }
   ],
   "source": [
    "type(finallist)"
   ]
  },
  {
   "cell_type": "code",
   "execution_count": null,
   "id": "d161270f",
   "metadata": {},
   "outputs": [],
   "source": []
  }
 ],
 "metadata": {
  "kernelspec": {
   "display_name": "Python 3 (ipykernel)",
   "language": "python",
   "name": "python3"
  },
  "language_info": {
   "codemirror_mode": {
    "name": "ipython",
    "version": 3
   },
   "file_extension": ".py",
   "mimetype": "text/x-python",
   "name": "python",
   "nbconvert_exporter": "python",
   "pygments_lexer": "ipython3",
   "version": "3.11.0"
  }
 },
 "nbformat": 4,
 "nbformat_minor": 5
}
