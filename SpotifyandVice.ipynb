{
 "cells": [
  {
   "cell_type": "code",
   "execution_count": 1,
   "id": "a41cf716",
   "metadata": {},
   "outputs": [
    {
     "name": "stdout",
     "output_type": "stream",
     "text": [
      "['i', 'me', 'my', 'myself', 'we', 'our', 'ours', 'ourselves', 'you', \"you're\", \"you've\", \"you'll\", \"you'd\", 'your', 'yours', 'yourself', 'yourselves', 'he', 'him', 'his', 'himself', 'she', \"she's\", 'her', 'hers', 'herself', 'it', \"it's\", 'its', 'itself', 'they', 'them', 'their', 'theirs', 'themselves', 'what', 'which', 'who', 'whom', 'this', 'that', \"that'll\", 'these', 'those', 'am', 'is', 'are', 'was', 'were', 'be', 'been', 'being', 'have', 'has', 'had', 'having', 'do', 'does', 'did', 'doing', 'a', 'an', 'the', 'and', 'but', 'if', 'or', 'because', 'as', 'until', 'while', 'of', 'at', 'by', 'for', 'with', 'about', 'against', 'between', 'into', 'through', 'during', 'before', 'after', 'above', 'below', 'to', 'from', 'up', 'down', 'in', 'out', 'on', 'off', 'over', 'under', 'again', 'further', 'then', 'once', 'here', 'there', 'when', 'where', 'why', 'how', 'all', 'any', 'both', 'each', 'few', 'more', 'most', 'other', 'some', 'such', 'no', 'nor', 'not', 'only', 'own', 'same', 'so', 'than', 'too', 'very', 's', 't', 'can', 'will', 'just', 'don', \"don't\", 'should', \"should've\", 'now', 'd', 'll', 'm', 'o', 're', 've', 'y', 'ain', 'aren', \"aren't\", 'couldn', \"couldn't\", 'didn', \"didn't\", 'doesn', \"doesn't\", 'hadn', \"hadn't\", 'hasn', \"hasn't\", 'haven', \"haven't\", 'isn', \"isn't\", 'ma', 'mightn', \"mightn't\", 'mustn', \"mustn't\", 'needn', \"needn't\", 'shan', \"shan't\", 'shouldn', \"shouldn't\", 'wasn', \"wasn't\", 'weren', \"weren't\", 'won', \"won't\", 'wouldn', \"wouldn't\"]\n"
     ]
    }
   ],
   "source": [
    "import spotipy\n",
    "import pandas as pd\n",
    "import json\n",
    "import webbrowser\n",
    "import urllib.request\n",
    "import spotipy.util as util\n",
    "import nltk\n",
    "from nltk.corpus import stopwords\n",
    "print(stopwords.words('english'))\n",
    "from nltk import pos_tag\n",
    "from nltk import RegexpParser"
   ]
  },
  {
   "cell_type": "code",
   "execution_count": 2,
   "id": "01f0b1d4",
   "metadata": {},
   "outputs": [],
   "source": [
    "from spotipy.oauth2 import SpotifyClientCredentials\n",
    "import json"
   ]
  },
  {
   "cell_type": "code",
   "execution_count": 3,
   "id": "0002a960",
   "metadata": {},
   "outputs": [],
   "source": [
    "# open file with keys and set the path to your credentials JSON file\n",
    "credentials = \"spotify_keys.json\"\n",
    "with open(credentials, \"r\") as keys:\n",
    "    api_tokens = json.load(keys)"
   ]
  },
  {
   "cell_type": "code",
   "execution_count": 4,
   "id": "f4cd52d7",
   "metadata": {},
   "outputs": [],
   "source": [
    "# read the keys and assign each to a variable\n",
    "client_id = api_tokens[\"client_id\"]\n",
    "client_secret = api_tokens[\"client_secret\"]"
   ]
  },
  {
   "cell_type": "code",
   "execution_count": 5,
   "id": "18c81da5",
   "metadata": {},
   "outputs": [],
   "source": [
    "client_credentials_manager = SpotifyClientCredentials(client_id, client_secret)\n"
   ]
  },
  {
   "cell_type": "code",
   "execution_count": 6,
   "id": "024b3628",
   "metadata": {},
   "outputs": [],
   "source": [
    "sp = spotipy.Spotify(client_credentials_manager=client_credentials_manager)\n"
   ]
  },
  {
   "cell_type": "code",
   "execution_count": 7,
   "id": "18b91c05",
   "metadata": {},
   "outputs": [],
   "source": [
    "# the variable key now contains my API key\n",
    "with open(\"guardian_key.txt\", \"r\") as file:\n",
    "    key = file.read()"
   ]
  },
  {
   "cell_type": "code",
   "execution_count": 8,
   "id": "45fd12fd",
   "metadata": {},
   "outputs": [],
   "source": [
    "var = \"music+review\""
   ]
  },
  {
   "cell_type": "code",
   "execution_count": 9,
   "id": "2f6d067c",
   "metadata": {},
   "outputs": [],
   "source": [
    " url=\"https://content.guardianapis.com/search?page=2&q=\"+var+\"&api-key=\" +key"
   ]
  },
  {
   "cell_type": "code",
   "execution_count": 10,
   "id": "1091a9ab",
   "metadata": {},
   "outputs": [],
   "source": [
    "# request is when im asking for data\n",
    "request = urllib.request.Request(url)\n",
    "# response is the answer i get for asking for data\n",
    "response = urllib.request.urlopen(request)"
   ]
  },
  {
   "cell_type": "code",
   "execution_count": 11,
   "id": "c8c1df77",
   "metadata": {},
   "outputs": [
    {
     "data": {
      "text/plain": [
       "http.client.HTTPResponse"
      ]
     },
     "execution_count": 11,
     "metadata": {},
     "output_type": "execute_result"
    }
   ],
   "source": [
    "type(response)\n"
   ]
  },
  {
   "cell_type": "code",
   "execution_count": 12,
   "id": "07372e50",
   "metadata": {},
   "outputs": [],
   "source": [
    "headlines = json.loads(response.read())\n"
   ]
  },
  {
   "cell_type": "code",
   "execution_count": 13,
   "id": "0053402c",
   "metadata": {},
   "outputs": [
    {
     "data": {
      "text/plain": [
       "{'response': {'status': 'ok',\n",
       "  'userTier': 'developer',\n",
       "  'total': 78984,\n",
       "  'startIndex': 11,\n",
       "  'pageSize': 10,\n",
       "  'currentPage': 2,\n",
       "  'pages': 7899,\n",
       "  'orderBy': 'relevance',\n",
       "  'results': [{'id': 'music/2022/oct/16/mykki-blanco-stay-close-to-music-review-lost-in-their-own-album-michael-stipe-saul-williams-jonsi',\n",
       "    'type': 'article',\n",
       "    'sectionId': 'music',\n",
       "    'sectionName': 'Music',\n",
       "    'webPublicationDate': '2022-10-16T12:00:35Z',\n",
       "    'webTitle': 'Mykki Blanco: Stay Close to Music review – lost in their own album',\n",
       "    'webUrl': 'https://www.theguardian.com/music/2022/oct/16/mykki-blanco-stay-close-to-music-review-lost-in-their-own-album-michael-stipe-saul-williams-jonsi',\n",
       "    'apiUrl': 'https://content.guardianapis.com/music/2022/oct/16/mykki-blanco-stay-close-to-music-review-lost-in-their-own-album-michael-stipe-saul-williams-jonsi',\n",
       "    'isHosted': False,\n",
       "    'pillarId': 'pillar/arts',\n",
       "    'pillarName': 'Arts'},\n",
       "   {'id': 'stage/2022/nov/06/birmingham-royal-ballet-into-the-music-made-in-leeds-three-short-ballets-review',\n",
       "    'type': 'article',\n",
       "    'sectionId': 'stage',\n",
       "    'sectionName': 'Stage',\n",
       "    'webPublicationDate': '2022-11-06T09:00:17Z',\n",
       "    'webTitle': 'Birmingham Royal Ballet: Into the Music; Made in Leeds: Three Short Ballets – review',\n",
       "    'webUrl': 'https://www.theguardian.com/stage/2022/nov/06/birmingham-royal-ballet-into-the-music-made-in-leeds-three-short-ballets-review',\n",
       "    'apiUrl': 'https://content.guardianapis.com/stage/2022/nov/06/birmingham-royal-ballet-into-the-music-made-in-leeds-three-short-ballets-review',\n",
       "    'isHosted': False,\n",
       "    'pillarId': 'pillar/arts',\n",
       "    'pillarName': 'Arts'},\n",
       "   {'id': 'music/2022/sep/23/tim-burgess-typical-music-review',\n",
       "    'type': 'article',\n",
       "    'sectionId': 'music',\n",
       "    'sectionName': 'Music',\n",
       "    'webPublicationDate': '2022-09-23T07:30:28Z',\n",
       "    'webTitle': 'Tim Burgess: Typical Music review – eclectic adventure shows boundless lust for life',\n",
       "    'webUrl': 'https://www.theguardian.com/music/2022/sep/23/tim-burgess-typical-music-review',\n",
       "    'apiUrl': 'https://content.guardianapis.com/music/2022/sep/23/tim-burgess-typical-music-review',\n",
       "    'isHosted': False,\n",
       "    'pillarId': 'pillar/arts',\n",
       "    'pillarName': 'Arts'},\n",
       "   {'id': 'music/2022/oct/17/mode-festival-review-elevated-dance-music-brings-new-life-to-sydneys-cockatoo-island',\n",
       "    'type': 'article',\n",
       "    'sectionId': 'music',\n",
       "    'sectionName': 'Music',\n",
       "    'webPublicationDate': '2022-10-17T02:20:37Z',\n",
       "    'webTitle': 'Mode festival review – ‘elevated’ dance music brings new life to Sydney’s Cockatoo Island ',\n",
       "    'webUrl': 'https://www.theguardian.com/music/2022/oct/17/mode-festival-review-elevated-dance-music-brings-new-life-to-sydneys-cockatoo-island',\n",
       "    'apiUrl': 'https://content.guardianapis.com/music/2022/oct/17/mode-festival-review-elevated-dance-music-brings-new-life-to-sydneys-cockatoo-island',\n",
       "    'isHosted': False,\n",
       "    'pillarId': 'pillar/arts',\n",
       "    'pillarName': 'Arts'},\n",
       "   {'id': 'music/2022/jun/26/penarth-chamber-music-festival-review-bold-and-bracing-performances',\n",
       "    'type': 'article',\n",
       "    'sectionId': 'music',\n",
       "    'sectionName': 'Music',\n",
       "    'webPublicationDate': '2022-06-26T14:15:22Z',\n",
       "    'webTitle': 'Penarth chamber music festival review – bold and bracing performances',\n",
       "    'webUrl': 'https://www.theguardian.com/music/2022/jun/26/penarth-chamber-music-festival-review-bold-and-bracing-performances',\n",
       "    'apiUrl': 'https://content.guardianapis.com/music/2022/jun/26/penarth-chamber-music-festival-review-bold-and-bracing-performances',\n",
       "    'isHosted': False,\n",
       "    'pillarId': 'pillar/arts',\n",
       "    'pillarName': 'Arts'},\n",
       "   {'id': 'music/2022/jul/11/distance-review-fearless-soprano-flies-through-chamber-music-eco-debate',\n",
       "    'type': 'article',\n",
       "    'sectionId': 'music',\n",
       "    'sectionName': 'Music',\n",
       "    'webPublicationDate': '2022-07-11T13:38:44Z',\n",
       "    'webTitle': 'Distance review – fearless soprano flies through chamber music eco-debate',\n",
       "    'webUrl': 'https://www.theguardian.com/music/2022/jul/11/distance-review-fearless-soprano-flies-through-chamber-music-eco-debate',\n",
       "    'apiUrl': 'https://content.guardianapis.com/music/2022/jul/11/distance-review-fearless-soprano-flies-through-chamber-music-eco-debate',\n",
       "    'isHosted': False,\n",
       "    'pillarId': 'pillar/arts',\n",
       "    'pillarName': 'Arts'},\n",
       "   {'id': 'music/2022/nov/13/sarathy-korwar-kalak-review-deft-musical-storytelling',\n",
       "    'type': 'article',\n",
       "    'sectionId': 'music',\n",
       "    'sectionName': 'Music',\n",
       "    'webPublicationDate': '2022-11-13T15:00:14Z',\n",
       "    'webTitle': 'Sarathy Korwar: Kalak review – deft musical storytelling',\n",
       "    'webUrl': 'https://www.theguardian.com/music/2022/nov/13/sarathy-korwar-kalak-review-deft-musical-storytelling',\n",
       "    'apiUrl': 'https://content.guardianapis.com/music/2022/nov/13/sarathy-korwar-kalak-review-deft-musical-storytelling',\n",
       "    'isHosted': False,\n",
       "    'pillarId': 'pillar/arts',\n",
       "    'pillarName': 'Arts'},\n",
       "   {'id': 'stage/2022/nov/24/elf-the-musical-review-dominion-theatre-london',\n",
       "    'type': 'article',\n",
       "    'sectionId': 'stage',\n",
       "    'sectionName': 'Stage',\n",
       "    'webPublicationDate': '2022-11-24T23:59:41Z',\n",
       "    'webTitle': 'Elf the Musical review – Buddy’s back with some syrupy showtunes',\n",
       "    'webUrl': 'https://www.theguardian.com/stage/2022/nov/24/elf-the-musical-review-dominion-theatre-london',\n",
       "    'apiUrl': 'https://content.guardianapis.com/stage/2022/nov/24/elf-the-musical-review-dominion-theatre-london',\n",
       "    'isHosted': False,\n",
       "    'pillarId': 'pillar/arts',\n",
       "    'pillarName': 'Arts'},\n",
       "   {'id': 'music/2022/jul/01/moor-mother-jazz-codes-review-anti-camae-ayewa',\n",
       "    'type': 'article',\n",
       "    'sectionId': 'music',\n",
       "    'sectionName': 'Music',\n",
       "    'webPublicationDate': '2022-07-01T06:30:03Z',\n",
       "    'webTitle': 'Moor Mother: Jazz Codes review – a stunning continuum of Black music',\n",
       "    'webUrl': 'https://www.theguardian.com/music/2022/jul/01/moor-mother-jazz-codes-review-anti-camae-ayewa',\n",
       "    'apiUrl': 'https://content.guardianapis.com/music/2022/jul/01/moor-mother-jazz-codes-review-anti-camae-ayewa',\n",
       "    'isHosted': False,\n",
       "    'pillarId': 'pillar/arts',\n",
       "    'pillarName': 'Arts'},\n",
       "   {'id': 'food/2022/jul/17/jay-rayner-restaurant-review-il-borro-london-the-music-was-bad-the-pasta-dismal',\n",
       "    'type': 'article',\n",
       "    'sectionId': 'food',\n",
       "    'sectionName': 'Food',\n",
       "    'webPublicationDate': '2022-07-17T05:00:28Z',\n",
       "    'webTitle': 'Il Borro, London: ‘The music was bad, the pasta dismal’ – restaurant review',\n",
       "    'webUrl': 'https://www.theguardian.com/food/2022/jul/17/jay-rayner-restaurant-review-il-borro-london-the-music-was-bad-the-pasta-dismal',\n",
       "    'apiUrl': 'https://content.guardianapis.com/food/2022/jul/17/jay-rayner-restaurant-review-il-borro-london-the-music-was-bad-the-pasta-dismal',\n",
       "    'isHosted': False,\n",
       "    'pillarId': 'pillar/lifestyle',\n",
       "    'pillarName': 'Lifestyle'}]}}"
      ]
     },
     "execution_count": 13,
     "metadata": {},
     "output_type": "execute_result"
    }
   ],
   "source": [
    "headlines"
   ]
  },
  {
   "cell_type": "code",
   "execution_count": 14,
   "id": "280f3a71",
   "metadata": {},
   "outputs": [],
   "source": [
    "# make an empty list of my titles\n",
    "article_titles = headlines['response']\n"
   ]
  },
  {
   "cell_type": "raw",
   "id": "cbba7c14",
   "metadata": {},
   "source": [
    "print(article_titles)"
   ]
  },
  {
   "cell_type": "code",
   "execution_count": 15,
   "id": "437b45df",
   "metadata": {},
   "outputs": [
    {
     "data": {
      "text/plain": [
       "{'status': 'ok',\n",
       " 'userTier': 'developer',\n",
       " 'total': 78984,\n",
       " 'startIndex': 11,\n",
       " 'pageSize': 10,\n",
       " 'currentPage': 2,\n",
       " 'pages': 7899,\n",
       " 'orderBy': 'relevance',\n",
       " 'results': [{'id': 'music/2022/oct/16/mykki-blanco-stay-close-to-music-review-lost-in-their-own-album-michael-stipe-saul-williams-jonsi',\n",
       "   'type': 'article',\n",
       "   'sectionId': 'music',\n",
       "   'sectionName': 'Music',\n",
       "   'webPublicationDate': '2022-10-16T12:00:35Z',\n",
       "   'webTitle': 'Mykki Blanco: Stay Close to Music review – lost in their own album',\n",
       "   'webUrl': 'https://www.theguardian.com/music/2022/oct/16/mykki-blanco-stay-close-to-music-review-lost-in-their-own-album-michael-stipe-saul-williams-jonsi',\n",
       "   'apiUrl': 'https://content.guardianapis.com/music/2022/oct/16/mykki-blanco-stay-close-to-music-review-lost-in-their-own-album-michael-stipe-saul-williams-jonsi',\n",
       "   'isHosted': False,\n",
       "   'pillarId': 'pillar/arts',\n",
       "   'pillarName': 'Arts'},\n",
       "  {'id': 'stage/2022/nov/06/birmingham-royal-ballet-into-the-music-made-in-leeds-three-short-ballets-review',\n",
       "   'type': 'article',\n",
       "   'sectionId': 'stage',\n",
       "   'sectionName': 'Stage',\n",
       "   'webPublicationDate': '2022-11-06T09:00:17Z',\n",
       "   'webTitle': 'Birmingham Royal Ballet: Into the Music; Made in Leeds: Three Short Ballets – review',\n",
       "   'webUrl': 'https://www.theguardian.com/stage/2022/nov/06/birmingham-royal-ballet-into-the-music-made-in-leeds-three-short-ballets-review',\n",
       "   'apiUrl': 'https://content.guardianapis.com/stage/2022/nov/06/birmingham-royal-ballet-into-the-music-made-in-leeds-three-short-ballets-review',\n",
       "   'isHosted': False,\n",
       "   'pillarId': 'pillar/arts',\n",
       "   'pillarName': 'Arts'},\n",
       "  {'id': 'music/2022/sep/23/tim-burgess-typical-music-review',\n",
       "   'type': 'article',\n",
       "   'sectionId': 'music',\n",
       "   'sectionName': 'Music',\n",
       "   'webPublicationDate': '2022-09-23T07:30:28Z',\n",
       "   'webTitle': 'Tim Burgess: Typical Music review – eclectic adventure shows boundless lust for life',\n",
       "   'webUrl': 'https://www.theguardian.com/music/2022/sep/23/tim-burgess-typical-music-review',\n",
       "   'apiUrl': 'https://content.guardianapis.com/music/2022/sep/23/tim-burgess-typical-music-review',\n",
       "   'isHosted': False,\n",
       "   'pillarId': 'pillar/arts',\n",
       "   'pillarName': 'Arts'},\n",
       "  {'id': 'music/2022/oct/17/mode-festival-review-elevated-dance-music-brings-new-life-to-sydneys-cockatoo-island',\n",
       "   'type': 'article',\n",
       "   'sectionId': 'music',\n",
       "   'sectionName': 'Music',\n",
       "   'webPublicationDate': '2022-10-17T02:20:37Z',\n",
       "   'webTitle': 'Mode festival review – ‘elevated’ dance music brings new life to Sydney’s Cockatoo Island ',\n",
       "   'webUrl': 'https://www.theguardian.com/music/2022/oct/17/mode-festival-review-elevated-dance-music-brings-new-life-to-sydneys-cockatoo-island',\n",
       "   'apiUrl': 'https://content.guardianapis.com/music/2022/oct/17/mode-festival-review-elevated-dance-music-brings-new-life-to-sydneys-cockatoo-island',\n",
       "   'isHosted': False,\n",
       "   'pillarId': 'pillar/arts',\n",
       "   'pillarName': 'Arts'},\n",
       "  {'id': 'music/2022/jun/26/penarth-chamber-music-festival-review-bold-and-bracing-performances',\n",
       "   'type': 'article',\n",
       "   'sectionId': 'music',\n",
       "   'sectionName': 'Music',\n",
       "   'webPublicationDate': '2022-06-26T14:15:22Z',\n",
       "   'webTitle': 'Penarth chamber music festival review – bold and bracing performances',\n",
       "   'webUrl': 'https://www.theguardian.com/music/2022/jun/26/penarth-chamber-music-festival-review-bold-and-bracing-performances',\n",
       "   'apiUrl': 'https://content.guardianapis.com/music/2022/jun/26/penarth-chamber-music-festival-review-bold-and-bracing-performances',\n",
       "   'isHosted': False,\n",
       "   'pillarId': 'pillar/arts',\n",
       "   'pillarName': 'Arts'},\n",
       "  {'id': 'music/2022/jul/11/distance-review-fearless-soprano-flies-through-chamber-music-eco-debate',\n",
       "   'type': 'article',\n",
       "   'sectionId': 'music',\n",
       "   'sectionName': 'Music',\n",
       "   'webPublicationDate': '2022-07-11T13:38:44Z',\n",
       "   'webTitle': 'Distance review – fearless soprano flies through chamber music eco-debate',\n",
       "   'webUrl': 'https://www.theguardian.com/music/2022/jul/11/distance-review-fearless-soprano-flies-through-chamber-music-eco-debate',\n",
       "   'apiUrl': 'https://content.guardianapis.com/music/2022/jul/11/distance-review-fearless-soprano-flies-through-chamber-music-eco-debate',\n",
       "   'isHosted': False,\n",
       "   'pillarId': 'pillar/arts',\n",
       "   'pillarName': 'Arts'},\n",
       "  {'id': 'music/2022/nov/13/sarathy-korwar-kalak-review-deft-musical-storytelling',\n",
       "   'type': 'article',\n",
       "   'sectionId': 'music',\n",
       "   'sectionName': 'Music',\n",
       "   'webPublicationDate': '2022-11-13T15:00:14Z',\n",
       "   'webTitle': 'Sarathy Korwar: Kalak review – deft musical storytelling',\n",
       "   'webUrl': 'https://www.theguardian.com/music/2022/nov/13/sarathy-korwar-kalak-review-deft-musical-storytelling',\n",
       "   'apiUrl': 'https://content.guardianapis.com/music/2022/nov/13/sarathy-korwar-kalak-review-deft-musical-storytelling',\n",
       "   'isHosted': False,\n",
       "   'pillarId': 'pillar/arts',\n",
       "   'pillarName': 'Arts'},\n",
       "  {'id': 'stage/2022/nov/24/elf-the-musical-review-dominion-theatre-london',\n",
       "   'type': 'article',\n",
       "   'sectionId': 'stage',\n",
       "   'sectionName': 'Stage',\n",
       "   'webPublicationDate': '2022-11-24T23:59:41Z',\n",
       "   'webTitle': 'Elf the Musical review – Buddy’s back with some syrupy showtunes',\n",
       "   'webUrl': 'https://www.theguardian.com/stage/2022/nov/24/elf-the-musical-review-dominion-theatre-london',\n",
       "   'apiUrl': 'https://content.guardianapis.com/stage/2022/nov/24/elf-the-musical-review-dominion-theatre-london',\n",
       "   'isHosted': False,\n",
       "   'pillarId': 'pillar/arts',\n",
       "   'pillarName': 'Arts'},\n",
       "  {'id': 'music/2022/jul/01/moor-mother-jazz-codes-review-anti-camae-ayewa',\n",
       "   'type': 'article',\n",
       "   'sectionId': 'music',\n",
       "   'sectionName': 'Music',\n",
       "   'webPublicationDate': '2022-07-01T06:30:03Z',\n",
       "   'webTitle': 'Moor Mother: Jazz Codes review – a stunning continuum of Black music',\n",
       "   'webUrl': 'https://www.theguardian.com/music/2022/jul/01/moor-mother-jazz-codes-review-anti-camae-ayewa',\n",
       "   'apiUrl': 'https://content.guardianapis.com/music/2022/jul/01/moor-mother-jazz-codes-review-anti-camae-ayewa',\n",
       "   'isHosted': False,\n",
       "   'pillarId': 'pillar/arts',\n",
       "   'pillarName': 'Arts'},\n",
       "  {'id': 'food/2022/jul/17/jay-rayner-restaurant-review-il-borro-london-the-music-was-bad-the-pasta-dismal',\n",
       "   'type': 'article',\n",
       "   'sectionId': 'food',\n",
       "   'sectionName': 'Food',\n",
       "   'webPublicationDate': '2022-07-17T05:00:28Z',\n",
       "   'webTitle': 'Il Borro, London: ‘The music was bad, the pasta dismal’ – restaurant review',\n",
       "   'webUrl': 'https://www.theguardian.com/food/2022/jul/17/jay-rayner-restaurant-review-il-borro-london-the-music-was-bad-the-pasta-dismal',\n",
       "   'apiUrl': 'https://content.guardianapis.com/food/2022/jul/17/jay-rayner-restaurant-review-il-borro-london-the-music-was-bad-the-pasta-dismal',\n",
       "   'isHosted': False,\n",
       "   'pillarId': 'pillar/lifestyle',\n",
       "   'pillarName': 'Lifestyle'}]}"
      ]
     },
     "execution_count": 15,
     "metadata": {},
     "output_type": "execute_result"
    }
   ],
   "source": [
    "article_titles"
   ]
  },
  {
   "cell_type": "code",
   "execution_count": 16,
   "id": "5825beea",
   "metadata": {},
   "outputs": [],
   "source": [
    "article_webtitles = []\n",
    "for headline in article_titles['results']:\n",
    "    article_webtitles.append(headline['webTitle'])"
   ]
  },
  {
   "cell_type": "code",
   "execution_count": 40,
   "id": "bfb3c4a8",
   "metadata": {},
   "outputs": [
    {
     "data": {
      "text/plain": [
       "['Mykki Blanco: Stay Close to Music review – lost in their own album',\n",
       " 'Birmingham Royal Ballet: Into the Music; Made in Leeds: Three Short Ballets – review',\n",
       " 'Tim Burgess: Typical Music review – eclectic adventure shows boundless lust for life',\n",
       " 'Mode festival review – ‘elevated’ dance music brings new life to Sydney’s Cockatoo Island ',\n",
       " 'Penarth chamber music festival review – bold and bracing performances',\n",
       " 'Distance review – fearless soprano flies through chamber music eco-debate',\n",
       " 'Sarathy Korwar: Kalak review – deft musical storytelling',\n",
       " 'Elf the Musical review – Buddy’s back with some syrupy showtunes',\n",
       " 'Moor Mother: Jazz Codes review – a stunning continuum of Black music',\n",
       " 'Il Borro, London: ‘The music was bad, the pasta dismal’ – restaurant review']"
      ]
     },
     "execution_count": 40,
     "metadata": {},
     "output_type": "execute_result"
    }
   ],
   "source": [
    "article_webtitles"
   ]
  },
  {
   "cell_type": "code",
   "execution_count": 39,
   "id": "a8bea994",
   "metadata": {},
   "outputs": [
    {
     "name": "stderr",
     "output_type": "stream",
     "text": [
      "[nltk_data] Downloading package averaged_perceptron_tagger to\n",
      "[nltk_data]     C:\\Users\\janaa\\AppData\\Roaming\\nltk_data...\n",
      "[nltk_data]   Package averaged_perceptron_tagger is already up-to-\n",
      "[nltk_data]       date!\n"
     ]
    }
   ],
   "source": [
    "from nltk.tag import pos_tag\n",
    "nltk.download('averaged_perceptron_tagger')\n",
    "\n",
    "sentence = article_webtitles[0]\n",
    "\n",
    "new=sentence.split()\n",
    "# [('Michael', 'NNP'), ('Jackson', 'NNP'), ('likes', 'VBZ'), ('to', 'TO'), ('eat', 'VB'), ('at', 'IN'), ('McDonalds', 'NNP')]\n",
    "new2=pos_tag(new)\n"
   ]
  },
  {
   "cell_type": "code",
   "execution_count": 27,
   "id": "d01e2edf",
   "metadata": {},
   "outputs": [
    {
     "data": {
      "text/plain": [
       "list"
      ]
     },
     "execution_count": 27,
     "metadata": {},
     "output_type": "execute_result"
    }
   ],
   "source": [
    "type(new2)"
   ]
  },
  {
   "cell_type": "code",
   "execution_count": 28,
   "id": "8dc5cbbc",
   "metadata": {},
   "outputs": [
    {
     "name": "stdout",
     "output_type": "stream",
     "text": [
      "[('Tim', 'NNP'), ('Burgess:', 'NNP'), ('Typical', 'NNP'), ('Music', 'NNP'), ('review', 'NN'), ('–', 'NNP'), ('eclectic', 'JJ'), ('adventure', 'NN'), ('shows', 'VBZ'), ('boundless', 'NN'), ('lust', 'NN'), ('for', 'IN'), ('life', 'NN')]\n"
     ]
    }
   ],
   "source": [
    "print(new2)"
   ]
  },
  {
   "cell_type": "code",
   "execution_count": 47,
   "id": "a7e4f2e0",
   "metadata": {},
   "outputs": [],
   "source": [
    "list_of_words= []\n",
    "for title in article_webtitles:\n",
    "    for word in title.split():\n",
    "        list_of_words.append(word)"
   ]
  },
  {
   "cell_type": "code",
   "execution_count": null,
   "id": "5fdfd2ef",
   "metadata": {},
   "outputs": [],
   "source": []
  },
  {
   "cell_type": "code",
   "execution_count": 50,
   "id": "030f061a",
   "metadata": {},
   "outputs": [],
   "source": [
    "taggedwords =pos_tag(list_of_words)"
   ]
  },
  {
   "cell_type": "code",
   "execution_count": 51,
   "id": "5704ef22",
   "metadata": {},
   "outputs": [
    {
     "name": "stdout",
     "output_type": "stream",
     "text": [
      "[('Mykki', 'NNP'), ('Blanco:', 'NNP'), ('Stay', 'NNP'), ('Close', 'NNP'), ('to', 'TO'), ('Music', 'NNP'), ('review', 'NN'), ('–', 'NN'), ('lost', 'VBN'), ('in', 'IN'), ('their', 'PRP$'), ('own', 'JJ'), ('album', 'NN'), ('Birmingham', 'NNP'), ('Royal', 'NNP'), ('Ballet:', 'NNP'), ('Into', 'NNP'), ('the', 'DT'), ('Music;', 'NNP'), ('Made', 'NNP'), ('in', 'IN'), ('Leeds:', 'NNP'), ('Three', 'NNP'), ('Short', 'NNP'), ('Ballets', 'NNP'), ('–', 'NNP'), ('review', 'NN'), ('Tim', 'NNP'), ('Burgess:', 'NNP'), ('Typical', 'NNP'), ('Music', 'NNP'), ('review', 'NN'), ('–', 'NNP'), ('eclectic', 'JJ'), ('adventure', 'NN'), ('shows', 'VBZ'), ('boundless', 'NN'), ('lust', 'NN'), ('for', 'IN'), ('life', 'NN'), ('Mode', 'NNP'), ('festival', 'NN'), ('review', 'NN'), ('–', 'NNP'), ('‘elevated’', 'NNP'), ('dance', 'NN'), ('music', 'NN'), ('brings', 'VBZ'), ('new', 'JJ'), ('life', 'NN'), ('to', 'TO'), ('Sydney’s', 'NNP'), ('Cockatoo', 'NNP'), ('Island', 'NNP'), ('Penarth', 'NNP'), ('chamber', 'NN'), ('music', 'NN'), ('festival', 'NN'), ('review', 'NN'), ('–', 'NNP'), ('bold', 'NN'), ('and', 'CC'), ('bracing', 'NN'), ('performances', 'NNS'), ('Distance', 'NNP'), ('review', 'NN'), ('–', 'NNP'), ('fearless', 'NN'), ('soprano', 'NN'), ('flies', 'NNS'), ('through', 'IN'), ('chamber', 'NN'), ('music', 'NN'), ('eco-debate', 'JJ'), ('Sarathy', 'NNP'), ('Korwar:', 'NNP'), ('Kalak', 'NNP'), ('review', 'NN'), ('–', 'NNP'), ('deft', 'VBD'), ('musical', 'JJ'), ('storytelling', 'VBG'), ('Elf', 'NNP'), ('the', 'DT'), ('Musical', 'NNP'), ('review', 'NN'), ('–', 'NNP'), ('Buddy’s', 'NNP'), ('back', 'RP'), ('with', 'IN'), ('some', 'DT'), ('syrupy', 'JJ'), ('showtunes', 'NNS'), ('Moor', 'NNP'), ('Mother:', 'NNP'), ('Jazz', 'NNP'), ('Codes', 'NNP'), ('review', 'VBP'), ('–', 'VBP'), ('a', 'DT'), ('stunning', 'JJ'), ('continuum', 'NN'), ('of', 'IN'), ('Black', 'NNP'), ('music', 'NN'), ('Il', 'NNP'), ('Borro,', 'NNP'), ('London:', 'NNP'), ('‘The', 'NNP'), ('music', 'NN'), ('was', 'VBD'), ('bad,', 'VBN'), ('the', 'DT'), ('pasta', 'NN'), ('dismal’', 'NN'), ('–', 'NNP'), ('restaurant', 'NN'), ('review', 'NN')]\n"
     ]
    }
   ],
   "source": [
    "print(taggedwords)"
   ]
  },
  {
   "cell_type": "code",
   "execution_count": 52,
   "id": "5e9eed90",
   "metadata": {},
   "outputs": [
    {
     "data": {
      "text/plain": [
       "list"
      ]
     },
     "execution_count": 52,
     "metadata": {},
     "output_type": "execute_result"
    }
   ],
   "source": [
    "type(taggedwords)"
   ]
  },
  {
   "cell_type": "code",
   "execution_count": 54,
   "id": "10545dd3",
   "metadata": {},
   "outputs": [],
   "source": [
    "nnp=[wort for wort,pos in taggedwords if pos=='NNP']"
   ]
  },
  {
   "cell_type": "code",
   "execution_count": 55,
   "id": "50477848",
   "metadata": {},
   "outputs": [
    {
     "data": {
      "text/plain": [
       "['Mykki',\n",
       " 'Blanco:',\n",
       " 'Stay',\n",
       " 'Close',\n",
       " 'Music',\n",
       " 'Birmingham',\n",
       " 'Royal',\n",
       " 'Ballet:',\n",
       " 'Into',\n",
       " 'Music;',\n",
       " 'Made',\n",
       " 'Leeds:',\n",
       " 'Three',\n",
       " 'Short',\n",
       " 'Ballets',\n",
       " '–',\n",
       " 'Tim',\n",
       " 'Burgess:',\n",
       " 'Typical',\n",
       " 'Music',\n",
       " '–',\n",
       " 'Mode',\n",
       " '–',\n",
       " '‘elevated’',\n",
       " 'Sydney’s',\n",
       " 'Cockatoo',\n",
       " 'Island',\n",
       " 'Penarth',\n",
       " '–',\n",
       " 'Distance',\n",
       " '–',\n",
       " 'Sarathy',\n",
       " 'Korwar:',\n",
       " 'Kalak',\n",
       " '–',\n",
       " 'Elf',\n",
       " 'Musical',\n",
       " '–',\n",
       " 'Buddy’s',\n",
       " 'Moor',\n",
       " 'Mother:',\n",
       " 'Jazz',\n",
       " 'Codes',\n",
       " 'Black',\n",
       " 'Il',\n",
       " 'Borro,',\n",
       " 'London:',\n",
       " '‘The',\n",
       " '–']"
      ]
     },
     "execution_count": 55,
     "metadata": {},
     "output_type": "execute_result"
    }
   ],
   "source": [
    "nnp"
   ]
  },
  {
   "cell_type": "code",
   "execution_count": 57,
   "id": "f74382f9",
   "metadata": {},
   "outputs": [],
   "source": [
    "# read the keys and assign each to a variable\n",
    "# A redirect URI, or reply URL, is the location where the authorization server sends the user once the app has been \n",
    "# successfully authorized and granted an authorization code or access token.\n",
    "client_id = api_tokens[\"client_id\"]\n",
    "client_secret = api_tokens[\"client_secret\"]\n",
    "redirectURI = api_tokens[\"redirect\"]\n",
    "username = api_tokens[\"username\"]"
   ]
  },
  {
   "cell_type": "code",
   "execution_count": 58,
   "id": "0514d7af",
   "metadata": {},
   "outputs": [
    {
     "name": "stdout",
     "output_type": "stream",
     "text": [
      "Enter the URL you were redirected to: https://www.google.com/?code=AQCbQbR4oyfXTQqW4gxuA4lBBI88I4MS8DLBXwtP9bWdb3okjJBQ_KtWEDIjaqHL2MtZnssuf31IUJEd1_qQoTfX4mQ3rORIkqDWh-2cW8onulqczdweyHavw2y78cRAMloLRGtOH-W0CJepa-nRaxtwi0LmKSXfMKw8ovHV8n-bgFd9gqqbTKKCnQWcpmzNidbiG4T5qxOUVQu1z3uIM7TCA2p2xAl-3yYUZ65X7D0fZ2KB10j26k7aRajVremWaBh0qwi957VbZ8fiAGPDBxrAUWbGAgxXd_SPLf0sh3JaaMS9bMtTBoZt\n"
     ]
    }
   ],
   "source": [
    "scope = 'user-read-private user-read-playback-state user-modify-playback-state playlist-modify-public user-library-read'\n",
    "token = util.prompt_for_user_token(username, scope, client_id=client_id,\n",
    "                           client_secret=client_secret,\n",
    "                           redirect_uri=redirectURI)"
   ]
  },
  {
   "cell_type": "code",
   "execution_count": 59,
   "id": "82a261ea",
   "metadata": {},
   "outputs": [
    {
     "data": {
      "text/plain": [
       "'BQAn9RTpG0OcASd43OWolU8pDK0cTVFTynCAg9iQcrZkSv17wGC1HlDEdrG1HvKVpPjFkSmDL5caYyP28AyVu6cyYwmb8DfydOd824MMMeUoEANDNK6OCwdGNdhjRiq9-F3Cb54QkofSgeUpMSoSnAW5KXSugZA7HD42v8FJJPQDCcdvQERUkh--j6skOo_wbnY-nlnPBY-bHXrh4K-4TMtHTtQNY01J4ZRGvm8tv561ib4lK2e1cb3DWgcWMskvvA'"
      ]
     },
     "execution_count": 59,
     "metadata": {},
     "output_type": "execute_result"
    }
   ],
   "source": [
    "token"
   ]
  },
  {
   "cell_type": "code",
   "execution_count": 60,
   "id": "08c917ba",
   "metadata": {},
   "outputs": [],
   "source": [
    "#create my Spotify object\n",
    "sp = spotipy.Spotify(auth=token)"
   ]
  },
  {
   "cell_type": "code",
   "execution_count": 65,
   "id": "82a0e66d",
   "metadata": {},
   "outputs": [
    {
     "name": "stdout",
     "output_type": "stream",
     "text": [
      "['spotify:track:2QFyOnJfJ49OnNgMvKXvTM', 'spotify:track:4QwmClS4XpQGlAFmGgM2vY', 'spotify:track:7uHRKSQ9WIlBBuBY7BHcbq', 'spotify:track:1Ly7xppUgLEZ4iwxRAR9Sf', 'spotify:track:0uOpOhrVFlRDRU8KFEJGMD', 'spotify:track:3wMe1lySKxJeH9iMWXDqgx', 'spotify:track:5Qh1o4JgdCLdrj44vuqHiM', 'spotify:track:6WK9dVrRABMkUXFLNlgWFh', 'spotify:track:1Ly7xppUgLEZ4iwxRAR9Sf', 'spotify:track:5e2ZOmiFEAOFEgXNj1mHEk', 'spotify:track:2X9fsxb6O6bYEopJYmUbNC', 'spotify:track:7uHRKSQ9WIlBBuBY7BHcbq', 'spotify:track:27myNEFJ7BAeUStyFTHvuB', 'spotify:track:6QZxG3hnWlmrLhPv4QX3nE', 'spotify:track:2X9fsxb6O6bYEopJYmUbNC', 'spotify:track:4QwmClS4XpQGlAFmGgM2vY', 'spotify:track:4xGVGHtxfzP5X6W3BI0OQ3', 'spotify:track:5PEleSkK4p4E1sx3x7cOLt', 'spotify:track:4xGVGHtxfzP5X6W3BI0OQ3', 'spotify:track:0uOpOhrVFlRDRU8KFEJGMD', 'spotify:track:0uOpOhrVFlRDRU8KFEJGMD', 'spotify:track:2QjOHCTQ1Jl3zawyYOpxh6', 'spotify:track:2xor0rbjNm2JLfzimzND6R', 'spotify:track:1Ly7xppUgLEZ4iwxRAR9Sf', 'spotify:track:5H4IKI8ZbDJFwuBseNGL7k', 'spotify:track:4QwmClS4XpQGlAFmGgM2vY', 'spotify:track:7uGj3O3UWbEZ0quIiH0iIe', 'spotify:track:03ODmJgqLNGj60InPbcU4g', 'spotify:track:0uOpOhrVFlRDRU8KFEJGMD', 'spotify:track:7kivbAAHjxCOnBtkQzRO8p', 'spotify:track:1BkY0N8ChFk2mdLbAUu8ZK', 'spotify:track:2bLqfJjuC5syrsgDsZfGmn', 'spotify:track:0xzI1KAr0Yd9tv8jlIk3sn', 'spotify:track:4pnk9Mhzcv3oHxFyARlNNP', 'spotify:track:7uHRKSQ9WIlBBuBY7BHcbq', 'spotify:track:2QjOHCTQ1Jl3zawyYOpxh6', 'spotify:track:03ODmJgqLNGj60InPbcU4g', 'spotify:track:3wMe1lySKxJeH9iMWXDqgx', 'spotify:track:2QjOHCTQ1Jl3zawyYOpxh6']\n"
     ]
    }
   ],
   "source": [
    "songs_for_playlist = []\n",
    "import random\n",
    "for keyword in range(50):\n",
    "    newkeyword = random.choice(nnp)\n",
    "    #search for artist based on my keyword, only give me one artist\n",
    "    searchResults = sp.search(q=\"artist:\" + newkeyword, type=\"track\", limit=1)\n",
    "    if len(searchResults['tracks']['items'])>0:\n",
    "        songs_for_playlist.append(searchResults['tracks']['items'][0]['uri'])\n",
    "        \n",
    "print (songs_for_playlist)"
   ]
  },
  {
   "cell_type": "code",
   "execution_count": 66,
   "id": "936d6631",
   "metadata": {},
   "outputs": [
    {
     "name": "stdout",
     "output_type": "stream",
     "text": [
      "{'snapshot_id': 'Myw0NTY5NDZhMmIyNmJjYTM1ZmRmNzg4OTQ5YWZiMDI2NDgwMGRlNjY1'}\n"
     ]
    }
   ],
   "source": [
    "my_playlist = sp.user_playlist_create(user=username, name=\"Fancy Music Review Playlist\", public=True,\n",
    "                                      description=\"Songs for the news\")\n",
    "results = sp.user_playlist_add_tracks(username, my_playlist['id'], songs_for_playlist)\n",
    "print(results)"
   ]
  },
  {
   "cell_type": "code",
   "execution_count": 67,
   "id": "ca6b4897",
   "metadata": {},
   "outputs": [
    {
     "data": {
      "text/plain": [
       "True"
      ]
     },
     "execution_count": 67,
     "metadata": {},
     "output_type": "execute_result"
    }
   ],
   "source": [
    "webbrowser.open(my_playlist['external_urls']['spotify'])\n"
   ]
  },
  {
   "cell_type": "code",
   "execution_count": null,
   "id": "d0b4c590",
   "metadata": {},
   "outputs": [],
   "source": []
  }
 ],
 "metadata": {
  "kernelspec": {
   "display_name": "Python 3 (ipykernel)",
   "language": "python",
   "name": "python3"
  },
  "language_info": {
   "codemirror_mode": {
    "name": "ipython",
    "version": 3
   },
   "file_extension": ".py",
   "mimetype": "text/x-python",
   "name": "python",
   "nbconvert_exporter": "python",
   "pygments_lexer": "ipython3",
   "version": "3.11.0"
  }
 },
 "nbformat": 4,
 "nbformat_minor": 5
}
